{
  "nbformat": 4,
  "nbformat_minor": 0,
  "metadata": {
    "colab": {
      "name": "Indeed Web Scraping.ipynb",
      "provenance": [],
      "authorship_tag": "ABX9TyPvHJoR1lSvC1Pc5gSpS7v+",
      "include_colab_link": true
    },
    "kernelspec": {
      "name": "python3",
      "display_name": "Python 3"
    },
    "language_info": {
      "name": "python"
    }
  },
  "cells": [
    {
      "cell_type": "markdown",
      "metadata": {
        "id": "view-in-github",
        "colab_type": "text"
      },
      "source": [
        "<a href=\"https://colab.research.google.com/github/deepika1905/Indeed-Web-Page-Scraping-/blob/main/Indeed_Web_Scraping.ipynb\" target=\"_parent\"><img src=\"https://colab.research.google.com/assets/colab-badge.svg\" alt=\"Open In Colab\"/></a>"
      ]
    },
    {
      "cell_type": "markdown",
      "source": [
        "#**Web Scraping**\n",
        "*  **Web scraping is a term for various methods used to collect information from across the Internet.Web scraping is also called Web data extraction, screen scraping or Web harvesting.**\n",
        "\n",
        "*  **In this project I am going to scrape data from amazon.in and collect the desired information. After that I will transfer the data in excel file.**\n"
      ],
      "metadata": {
        "id": "Qpa2U2GCdoyy"
      }
    },
    {
      "cell_type": "code",
      "execution_count": 1,
      "metadata": {
        "id": "QLAFOuCw91D5"
      },
      "outputs": [],
      "source": [
        "#importing important libraries\n",
        "from bs4 import BeautifulSoup\n",
        "import requests\n",
        "from csv import writer"
      ]
    },
    {
      "cell_type": "code",
      "source": [
        "#I would be scraping data from the below url\n",
        "indeed_url = \"https://in.indeed.com/jobs?q=data%20scientist&l&vjk=4a337ab4a1c1a22b\""
      ],
      "metadata": {
        "id": "9gUmanOfA2rk"
      },
      "execution_count": 2,
      "outputs": []
    },
    {
      "cell_type": "code",
      "source": [
        "#requesting the webpage to scrape the data.\n",
        "page = requests.get(indeed_url)"
      ],
      "metadata": {
        "id": "68LVqA-1BMCS"
      },
      "execution_count": 3,
      "outputs": []
    },
    {
      "cell_type": "code",
      "source": [
        "#in the BeautifulSoup class object I am going to give two parameters first one is the content of the page and second one is the html parser.\n",
        "soup = BeautifulSoup(page.content, 'html.parser')\n",
        "results = soup.find_all('div', class_='slider_container css-11g4k3a eu4oa1w0')"
      ],
      "metadata": {
        "id": "4x1GS2hrBjy7"
      },
      "execution_count": 4,
      "outputs": []
    },
    {
      "cell_type": "code",
      "source": [
        "#creating the csv folder and transferring data into it.\n",
        "salary = ''\n",
        "with open('jobs.csv', 'w', encoding='utf8', newline='') as f:\n",
        "     thewriter = writer(f)\n",
        "     header = ['Position','Company Name','Salary']\n",
        "     thewriter.writerow(header)\n",
        "\n",
        "     for result in results:\n",
        "         title = result.find(\"h2\", class_=\"jobTitle\").text.replace('\\n','')\n",
        "         company = result.find(\"div\", class_=\"heading6 company_location tapItem-gutter companyInfo\").text.replace('\\n','')\n",
        "         salary1 = result.find(\"div\", class_=\"salary-snippet\")\n",
        "         if salary1:\n",
        "            salary = salary1\n",
        "         else:\n",
        "            salary = \"not mentioned\"\n",
        "         jobinfo = [title,company,salary]\n",
        "         thewriter.writerow(jobinfo)\n"
      ],
      "metadata": {
        "id": "35AUHvg0Co9x"
      },
      "execution_count": 5,
      "outputs": []
    },
    {
      "cell_type": "code",
      "source": [
        ""
      ],
      "metadata": {
        "id": "UMmk07eXIssC"
      },
      "execution_count": null,
      "outputs": []
    }
  ]
}